{
  "nbformat": 4,
  "nbformat_minor": 0,
  "metadata": {
    "colab": {
      "provenance": [],
      "include_colab_link": true
    },
    "kernelspec": {
      "name": "python3",
      "display_name": "Python 3"
    },
    "language_info": {
      "name": "python"
    }
  },
  "cells": [
    {
      "cell_type": "markdown",
      "metadata": {
        "id": "view-in-github",
        "colab_type": "text"
      },
      "source": [
        "<a href=\"https://colab.research.google.com/github/jchermitano/DSP_Case-Study/blob/main/Group4_Case_Study(Voice_Changer).ipynb\" target=\"_parent\"><img src=\"https://colab.research.google.com/assets/colab-badge.svg\" alt=\"Open In Colab\"/></a>"
      ]
    },
    {
      "cell_type": "code",
      "execution_count": null,
      "metadata": {
        "colab": {
          "base_uri": "https://localhost:8080/"
        },
        "id": "xom-fSryqNnQ",
        "outputId": "b49bed96-1813-45b3-aafa-75d1e18de8a1"
      },
      "outputs": [
        {
          "output_type": "stream",
          "name": "stdout",
          "text": [
            "Mounted at /content/drive\n"
          ]
        }
      ],
      "source": [
        "from google.colab import drive\n",
        "drive.mount('/content/drive')\n"
      ]
    },
    {
      "cell_type": "markdown",
      "source": [],
      "metadata": {
        "id": "fW_go_y9VnlI"
      }
    },
    {
      "cell_type": "code",
      "source": [
        "!pip install pydub\n",
        "!apt-get install -y ffmpeg\n"
      ],
      "metadata": {
        "colab": {
          "base_uri": "https://localhost:8080/"
        },
        "id": "fqoxt36ksCGx",
        "outputId": "06c0908f-a65d-4512-b967-e0cbaa5e56c4"
      },
      "execution_count": null,
      "outputs": [
        {
          "output_type": "stream",
          "name": "stdout",
          "text": [
            "Collecting pydub\n",
            "  Downloading pydub-0.25.1-py2.py3-none-any.whl (32 kB)\n",
            "Installing collected packages: pydub\n",
            "Successfully installed pydub-0.25.1\n",
            "Reading package lists... Done\n",
            "Building dependency tree... Done\n",
            "Reading state information... Done\n",
            "ffmpeg is already the newest version (7:4.4.2-0ubuntu0.22.04.1).\n",
            "0 upgraded, 0 newly installed, 0 to remove and 18 not upgraded.\n"
          ]
        }
      ]
    },
    {
      "cell_type": "code",
      "source": [
        "import librosa\n",
        "import soundfile as sf\n",
        "from google.colab import files  # Import the files module for downloading\n",
        "\n",
        "# File path to the input audio\n",
        "input_audio_path = '/content/drive/MyDrive/Colab Notebooks/DSP/Case Study/script in pikachu at babae/uluuuuuul.wav'\n",
        "\n",
        "# Load the input audio file\n",
        "audio, sr = librosa.load(input_audio_path, sr=None)\n",
        "\n",
        "# Lower the pitch to create a bass-like effect\n",
        "bass_audio = librosa.effects.pitch_shift(audio, sr=sr, n_steps=15)\n",
        "\n",
        "# Save the processed audio as a WAV file\n",
        "output_audio_path = '/content/drive/MyDrive/Colab Notebooks/DSP/Case Study/script in pikachu at babae/modified/en11.wav'\n",
        "sf.write(output_audio_path, bass_audio, sr)\n",
        "\n",
        "# Print a message indicating the process is complete\n",
        "print(\"Bass-like audio saved at:\", output_audio_path)\n"
      ],
      "metadata": {
        "colab": {
          "base_uri": "https://localhost:8080/"
        },
        "id": "nnQv734YrIgn",
        "outputId": "8efd2b4e-3410-4864-d705-31f376fdeef1"
      },
      "execution_count": null,
      "outputs": [
        {
          "output_type": "stream",
          "name": "stdout",
          "text": [
            "Bass-like audio saved at: /content/drive/MyDrive/Colab Notebooks/DSP/Case Study/script in pikachu at babae/modified/en11.wav\n"
          ]
        }
      ]
    }
  ]
}